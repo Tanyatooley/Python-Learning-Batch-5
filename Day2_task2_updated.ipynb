{
 "cells": [
  {
   "cell_type": "code",
   "execution_count": 1,
   "metadata": {},
   "outputs": [
    {
     "name": "stdout",
     "output_type": "stream",
     "text": [
      "['A', 'B', 'C', 'D', 'E', 'F', 'G', 'H', 'I', 'J']\n"
     ]
    }
   ],
   "source": [
    "# Create a list of 10 employees\n",
    "employees=['A','B','C','D','E','F','G','H','I','J']\n",
    "print(employees)"
   ]
  },
  {
   "cell_type": "code",
   "execution_count": 2,
   "metadata": {},
   "outputs": [
    {
     "name": "stdout",
     "output_type": "stream",
     "text": [
      "('100', '122', '133', '144', '155', '166', '177', '188', '111', '999')\n"
     ]
    }
   ],
   "source": [
    "#Create tuple of salaries of these 10 employees\n",
    "salaries=('100','122','133','144','155','166','177','188','111','999')\n",
    "print(salaries)"
   ]
  },
  {
   "cell_type": "code",
   "execution_count": 3,
   "metadata": {},
   "outputs": [
    {
     "name": "stdout",
     "output_type": "stream",
     "text": [
      "('1', '2', '3', '4', '1', '1', '7', '8', '7', '9')\n"
     ]
    }
   ],
   "source": [
    "# Create a tuple of rating of these 10 employees ( 0 - 10 )\n",
    "ratings=('1','2','3','4','1','1','7','8','7','9')\n",
    "print(ratings)"
   ]
  },
  {
   "cell_type": "code",
   "execution_count": 20,
   "metadata": {},
   "outputs": [
    {
     "name": "stdout",
     "output_type": "stream",
     "text": [
      "{'Employee': ['A', 'B', 'C', 'D', 'E', 'F', 'G', 'H', 'I', 'J'], 'Salary': [69.93]}\n"
     ]
    }
   ],
   "source": [
    "# Generate a dictionary of employees and their new salaries based on their ratings \n",
    "   # The update to salaries should be as \n",
    "    \n",
    "   # a. For rating 0 - 3 no salaries should be updated\n",
    "    \n",
    "    #b. For rating 3 - 5 a 3% increment to be given\n",
    "    \n",
    "    #c. For rating 5 - 7 a 5% increment to be given\n",
    "    \n",
    "    #d. For rating 7 - 9 a 7% increment to be given\n",
    "    \n",
    "    #e. For rating 9 and above a 7% increment and a bonus of 10% of initial salary to be given\n",
    "employees=['A','B','C','D','E','F','G','H','I','J']\n",
    "salaries=(100,122,133,144,155,166,177,188,111,999)\n",
    "ratings=(1,2,3,4,1,1,7,8,7,9)\n",
    "dictionary={}\n",
    "newlist=[]\n",
    "\n",
    "for i in range(len(employees)):\n",
    "    rating = ratings[i]\n",
    "    salary = salaries[i]\n",
    "    if 0 < rating < 3:\n",
    "        NewSal = salary* (3/100)\n",
    "    elif 3 <= rating < 5:\n",
    "        NewSal = salary* (3/100)\n",
    "    elif 5 <= rating < 7:\n",
    "        NewSal = salary* (5/100)\n",
    "    elif 7 <= rating < 9:\n",
    "        NewSal = salary* (7/100)\n",
    "    elif rating <= 9:\n",
    "        NewSal = salary* (7/100)\n",
    "\n",
    "newlist.append(NewSal)        \n",
    "    \n",
    "List = list(zip(employees, newlist))\n",
    "\n",
    "dictionary ={\"Employee\": employees, \"Salary\": newlist}\n",
    "\n",
    "print(dictionary)\n"
   ]
  },
  {
   "cell_type": "code",
   "execution_count": null,
   "metadata": {},
   "outputs": [],
   "source": []
  },
  {
   "cell_type": "code",
   "execution_count": null,
   "metadata": {},
   "outputs": [],
   "source": []
  }
 ],
 "metadata": {
  "kernelspec": {
   "display_name": "Python 3",
   "language": "python",
   "name": "python3"
  },
  "language_info": {
   "codemirror_mode": {
    "name": "ipython",
    "version": 3
   },
   "file_extension": ".py",
   "mimetype": "text/x-python",
   "name": "python",
   "nbconvert_exporter": "python",
   "pygments_lexer": "ipython3",
   "version": "3.7.6"
  }
 },
 "nbformat": 4,
 "nbformat_minor": 4
}
