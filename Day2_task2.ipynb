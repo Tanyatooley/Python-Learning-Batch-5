{
 "cells": [
  {
   "cell_type": "code",
   "execution_count": 1,
   "metadata": {},
   "outputs": [
    {
     "name": "stdout",
     "output_type": "stream",
     "text": [
      "['A', 'B', 'C', 'D', 'E', 'F', 'G', 'H', 'I', 'J']\n"
     ]
    }
   ],
   "source": [
    "# Create a list of 10 employees\n",
    "employees=['A','B','C','D','E','F','G','H','I','J']\n",
    "print(employees)"
   ]
  },
  {
   "cell_type": "code",
   "execution_count": 2,
   "metadata": {},
   "outputs": [
    {
     "name": "stdout",
     "output_type": "stream",
     "text": [
      "('100', '122', '133', '144', '155', '166', '177', '188', '111', '999')\n"
     ]
    }
   ],
   "source": [
    "#Create tuple of salaries of these 10 employees\n",
    "salaries=('100','122','133','144','155','166','177','188','111','999')\n",
    "print(salaries)"
   ]
  },
  {
   "cell_type": "code",
   "execution_count": 3,
   "metadata": {},
   "outputs": [
    {
     "name": "stdout",
     "output_type": "stream",
     "text": [
      "('1', '2', '3', '4', '1', '1', '7', '8', '7', '9')\n"
     ]
    }
   ],
   "source": [
    "# Create a tuple of rating of these 10 employees ( 0 - 10 )\n",
    "ratings=('1','2','3','4','1','1','7','8','7','9')\n",
    "print(ratings)"
   ]
  },
  {
   "cell_type": "code",
   "execution_count": 17,
   "metadata": {},
   "outputs": [
    {
     "ename": "TypeError",
     "evalue": "'<=' not supported between instances of 'int' and 'str'",
     "output_type": "error",
     "traceback": [
      "\u001b[0;31m---------------------------------------------------------------------------\u001b[0m",
      "\u001b[0;31mTypeError\u001b[0m                                 Traceback (most recent call last)",
      "\u001b[0;32m<ipython-input-17-dc76a4793667>\u001b[0m in \u001b[0;36m<module>\u001b[0;34m\u001b[0m\n\u001b[1;32m     20\u001b[0m     \u001b[0mrating\u001b[0m \u001b[0;34m=\u001b[0m \u001b[0mratings\u001b[0m\u001b[0;34m[\u001b[0m\u001b[0mi\u001b[0m\u001b[0;34m]\u001b[0m\u001b[0;34m\u001b[0m\u001b[0;34m\u001b[0m\u001b[0m\n\u001b[1;32m     21\u001b[0m     \u001b[0msalary\u001b[0m \u001b[0;34m=\u001b[0m \u001b[0msalaries\u001b[0m\u001b[0;34m[\u001b[0m\u001b[0mi\u001b[0m\u001b[0;34m]\u001b[0m\u001b[0;34m\u001b[0m\u001b[0;34m\u001b[0m\u001b[0m\n\u001b[0;32m---> 22\u001b[0;31m     \u001b[0;32mif\u001b[0m \u001b[0;36m0\u001b[0m \u001b[0;34m<=\u001b[0m\u001b[0mrating\u001b[0m \u001b[0;34m<\u001b[0m \u001b[0;36m3\u001b[0m\u001b[0;34m:\u001b[0m\u001b[0;34m\u001b[0m\u001b[0;34m\u001b[0m\u001b[0m\n\u001b[0m\u001b[1;32m     23\u001b[0m         \u001b[0mNewSal\u001b[0m \u001b[0;34m=\u001b[0m \u001b[0msalary\u001b[0m\u001b[0;34m*\u001b[0m \u001b[0;34m(\u001b[0m\u001b[0;36m3\u001b[0m\u001b[0;34m/\u001b[0m\u001b[0;36m100\u001b[0m\u001b[0;34m)\u001b[0m\u001b[0;34m\u001b[0m\u001b[0;34m\u001b[0m\u001b[0m\n\u001b[1;32m     24\u001b[0m     \u001b[0;32melif\u001b[0m \u001b[0;36m3\u001b[0m \u001b[0;34m<=\u001b[0m\u001b[0mrating\u001b[0m \u001b[0;34m<\u001b[0m \u001b[0;36m5\u001b[0m\u001b[0;34m:\u001b[0m\u001b[0;34m\u001b[0m\u001b[0;34m\u001b[0m\u001b[0m\n",
      "\u001b[0;31mTypeError\u001b[0m: '<=' not supported between instances of 'int' and 'str'"
     ]
    }
   ],
   "source": [
    "# Generate a dictionary of employees and their new salaries based on their ratings \n",
    "   # The update to salaries should be as \n",
    "    \n",
    "   # a. For rating 0 - 3 no salaries should be updated\n",
    "    \n",
    "    #b. For rating 3 - 5 a 3% increment to be given\n",
    "    \n",
    "    #c. For rating 5 - 7 a 5% increment to be given\n",
    "    \n",
    "    #d. For rating 7 - 9 a 7% increment to be given\n",
    "    \n",
    "    #e. For rating 9 and above a 7% increment and a bonus of 10% of initial salary to be given\n",
    "employees=['A','B','C','D','E','F','G','H','I','J']\n",
    "salaries=('100','122','133','144','155','166','177','188','111','999')\n",
    "ratings=('1','2','3','4','1','1','7','8','7','9')\n",
    "dictionary={}\n",
    "newlist=[]\n",
    "\n",
    "for i in range(len(employees)):\n",
    "    rating = ratings[i]\n",
    "    salary = salaries[i]\n",
    "    if 0 <= rating < 3:\n",
    "        NewSal = salary* (3/100)\n",
    "    elif 3 <= rating < 5:\n",
    "        NewSal = salary* (3/100)\n",
    "    elif 5 <= rating < 7:\n",
    "        NewSal = salary* (5/100)\n",
    "    elif 7 <= rating < 9:\n",
    "        NewSal = salary* (7/100)\n",
    "    elif rating <= 9:\n",
    "        NewSal = salary* (7/100)\n",
    "\n",
    "newlist.append(NewSal)        \n",
    "    \n",
    "List = list(zip(employees, newlist))\n",
    "\n",
    "dictionary ={\"Employee\": employees, \"Salary\":newlist}\n",
    "\n",
    "print(dictionary)\n"
   ]
  },
  {
   "cell_type": "code",
   "execution_count": null,
   "metadata": {},
   "outputs": [],
   "source": []
  },
  {
   "cell_type": "code",
   "execution_count": null,
   "metadata": {},
   "outputs": [],
   "source": []
  }
 ],
 "metadata": {
  "kernelspec": {
   "display_name": "Python 3",
   "language": "python",
   "name": "python3"
  },
  "language_info": {
   "codemirror_mode": {
    "name": "ipython",
    "version": 3
   },
   "file_extension": ".py",
   "mimetype": "text/x-python",
   "name": "python",
   "nbconvert_exporter": "python",
   "pygments_lexer": "ipython3",
   "version": "3.7.6"
  }
 },
 "nbformat": 4,
 "nbformat_minor": 4
}
