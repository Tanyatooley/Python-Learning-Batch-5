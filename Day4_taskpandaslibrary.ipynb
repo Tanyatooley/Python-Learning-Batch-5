{
 "cells": [
  {
   "cell_type": "code",
   "execution_count": 1,
   "metadata": {},
   "outputs": [],
   "source": [
    "import pandas as pd\n",
    "import numpy as np"
   ]
  },
  {
   "cell_type": "code",
   "execution_count": 7,
   "metadata": {},
   "outputs": [
    {
     "data": {
      "text/plain": [
       "{'India': [3.5, 2.5, 4.5, 2.4, 5.6],\n",
       " 'China': [2.4, 5.7, 2.6, 4.5, 5.6],\n",
       " 'US': [4.6, 2.5, 7.5, 4.6, 3.6],\n",
       " 'Russia': [5.6, 7.5, 9.5, 4.7, 5.7],\n",
       " 'Dubai': [3.6, 7.5, 8.5, 6.7, 6.7]}"
      ]
     },
     "execution_count": 7,
     "metadata": {},
     "output_type": "execute_result"
    }
   ],
   "source": [
    "#Create a dataframe from a dictionary where the keys are the names of countries, \n",
    "#the values are the gdp and indices are last 10 years. \n",
    "#Now try to find the average gdp combined for all countries over past 10 years.\n",
    "my_DF = {'India' : [3.5, 2.5, 4.5,2.4,5.6],\n",
    "         'China' : [2.4, 5.7, 2.6,4.5,5.6],\n",
    "        'US' :[4.6,2.5,7.5,4.6,3.6],\n",
    "        'Russia' : [5.6,7.5,9.5,4.7,5.7],\n",
    "        'Dubai' :[3.6,7.5,8.5,6.7,6.7]}\n",
    "my_DF"
   ]
  },
  {
   "cell_type": "code",
   "execution_count": 9,
   "metadata": {},
   "outputs": [
    {
     "data": {
      "text/html": [
       "<div>\n",
       "<style scoped>\n",
       "    .dataframe tbody tr th:only-of-type {\n",
       "        vertical-align: middle;\n",
       "    }\n",
       "\n",
       "    .dataframe tbody tr th {\n",
       "        vertical-align: top;\n",
       "    }\n",
       "\n",
       "    .dataframe thead th {\n",
       "        text-align: right;\n",
       "    }\n",
       "</style>\n",
       "<table border=\"1\" class=\"dataframe\">\n",
       "  <thead>\n",
       "    <tr style=\"text-align: right;\">\n",
       "      <th></th>\n",
       "      <th>India</th>\n",
       "      <th>China</th>\n",
       "      <th>US</th>\n",
       "      <th>Russia</th>\n",
       "      <th>Dubai</th>\n",
       "    </tr>\n",
       "  </thead>\n",
       "  <tbody>\n",
       "    <tr>\n",
       "      <th>2023</th>\n",
       "      <td>3.5</td>\n",
       "      <td>2.4</td>\n",
       "      <td>4.6</td>\n",
       "      <td>5.6</td>\n",
       "      <td>3.6</td>\n",
       "    </tr>\n",
       "    <tr>\n",
       "      <th>2022</th>\n",
       "      <td>2.5</td>\n",
       "      <td>5.7</td>\n",
       "      <td>2.5</td>\n",
       "      <td>7.5</td>\n",
       "      <td>7.5</td>\n",
       "    </tr>\n",
       "    <tr>\n",
       "      <th>2021</th>\n",
       "      <td>4.5</td>\n",
       "      <td>2.6</td>\n",
       "      <td>7.5</td>\n",
       "      <td>9.5</td>\n",
       "      <td>8.5</td>\n",
       "    </tr>\n",
       "    <tr>\n",
       "      <th>2020</th>\n",
       "      <td>2.4</td>\n",
       "      <td>4.5</td>\n",
       "      <td>4.6</td>\n",
       "      <td>4.7</td>\n",
       "      <td>6.7</td>\n",
       "    </tr>\n",
       "    <tr>\n",
       "      <th>2019</th>\n",
       "      <td>5.6</td>\n",
       "      <td>5.6</td>\n",
       "      <td>3.6</td>\n",
       "      <td>5.7</td>\n",
       "      <td>6.7</td>\n",
       "    </tr>\n",
       "  </tbody>\n",
       "</table>\n",
       "</div>"
      ],
      "text/plain": [
       "      India  China   US  Russia  Dubai\n",
       "2023    3.5    2.4  4.6     5.6    3.6\n",
       "2022    2.5    5.7  2.5     7.5    7.5\n",
       "2021    4.5    2.6  7.5     9.5    8.5\n",
       "2020    2.4    4.5  4.6     4.7    6.7\n",
       "2019    5.6    5.6  3.6     5.7    6.7"
      ]
     },
     "execution_count": 9,
     "metadata": {},
     "output_type": "execute_result"
    }
   ],
   "source": [
    "my_DF = pd.DataFrame(my_DF, index = [str(2023 - i) for i in range(5)])\n",
    "my_DF"
   ]
  },
  {
   "cell_type": "code",
   "execution_count": 13,
   "metadata": {},
   "outputs": [
    {
     "name": "stdout",
     "output_type": "stream",
     "text": [
      "Average GDP for all countries combined: 5.124\n"
     ]
    }
   ],
   "source": [
    "GDP_Avg = my_DF.mean()\n",
    "GDP_Avg\n",
    "print(\n",
    "average_gdp = GDP_Avg.mean()\n",
    "print(\"Average GDP for all countries combined:\", average_gdp)"
   ]
  },
  {
   "cell_type": "code",
   "execution_count": null,
   "metadata": {},
   "outputs": [],
   "source": []
  }
 ],
 "metadata": {
  "kernelspec": {
   "display_name": "Python 3",
   "language": "python",
   "name": "python3"
  },
  "language_info": {
   "codemirror_mode": {
    "name": "ipython",
    "version": 3
   },
   "file_extension": ".py",
   "mimetype": "text/x-python",
   "name": "python",
   "nbconvert_exporter": "python",
   "pygments_lexer": "ipython3",
   "version": "3.7.6"
  }
 },
 "nbformat": 4,
 "nbformat_minor": 4
}
