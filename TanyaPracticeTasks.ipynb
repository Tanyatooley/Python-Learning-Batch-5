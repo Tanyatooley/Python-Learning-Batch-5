{
 "cells": [
  {
   "cell_type": "code",
   "execution_count": 1,
   "metadata": {},
   "outputs": [
    {
     "data": {
      "text/plain": [
       "('tanya', 22, 1)"
      ]
     },
     "execution_count": 1,
     "metadata": {},
     "output_type": "execute_result"
    }
   ],
   "source": [
    "name='tanya'\n",
    "age=22\n",
    "exp=1\n",
    "details=(name,age,exp)\n",
    "details\n",
    "\n"
   ]
  },
  {
   "cell_type": "code",
   "execution_count": 3,
   "metadata": {},
   "outputs": [
    {
     "data": {
      "text/plain": [
       "{'Countries': ['India', 'China', 'US'],\n",
       " 'Capitals': ['New Delhi', 'Beijing', 'Washington'],\n",
       " 'Currency': ('Rupees', 'Yuan', 'Dollar'),\n",
       " 'length': [5, 5, 2]}"
      ]
     },
     "execution_count": 3,
     "metadata": {},
     "output_type": "execute_result"
    }
   ],
   "source": [
    "Dictionary={}\n",
    "Countries=[\"India\",\"China\",\"US\"]\n",
    "Capitals=[\"New Delhi\",\"Beijing\",\"Washington\"]\n",
    "Currency=(\"Rupees\",\"Yuan\",\"Dollar\")\n",
    "Length= [len(Countries[0]),len(Countries[1]),len(Countries[2])]\n",
    "\n",
    "Dictionary['Countries']=Countries\n",
    "Dictionary['Capitals']=Capitals\n",
    "Dictionary['Currency']=Currency\n",
    "Dictionary['length']=Length\n",
    "Dictionary\n"
   ]
  },
  {
   "cell_type": "code",
   "execution_count": null,
   "metadata": {},
   "outputs": [],
   "source": []
  }
 ],
 "metadata": {
  "kernelspec": {
   "display_name": "Python 3",
   "language": "python",
   "name": "python3"
  },
  "language_info": {
   "codemirror_mode": {
    "name": "ipython",
    "version": 3
   },
   "file_extension": ".py",
   "mimetype": "text/x-python",
   "name": "python",
   "nbconvert_exporter": "python",
   "pygments_lexer": "ipython3",
   "version": "3.7.6"
  }
 },
 "nbformat": 4,
 "nbformat_minor": 4
}
